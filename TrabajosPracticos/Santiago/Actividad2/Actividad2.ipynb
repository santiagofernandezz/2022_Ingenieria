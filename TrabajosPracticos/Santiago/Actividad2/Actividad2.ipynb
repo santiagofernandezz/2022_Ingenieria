{
 "cells": [
  {
   "cell_type": "markdown",
   "id": "145a2571-dccd-4142-96dc-585e1c024233",
   "metadata": {},
   "source": [
    "Importo librerías y gráficos."
   ]
  },
  {
   "cell_type": "code",
   "execution_count": 1,
   "id": "1fe273ce-9262-4329-afea-132ec450f8eb",
   "metadata": {},
   "outputs": [],
   "source": [
    "import numpy as np\n",
    "import matplotlib.pyplot as plt\n",
    "from Kglobal import Kglobal\n",
    "from MEF import MEF"
   ]
  },
  {
   "cell_type": "markdown",
   "id": "efbdb821-aea0-4561-8ca5-e46c576bff74",
   "metadata": {},
   "source": [
    "Cargo los datos del problema: escribo la matriz de conectividad y de nodos propuestos en la siguiente línea y en base a ello definiremos el resto de elementos para hallar los desplazamientos y tensiones."
   ]
  },
  {
   "cell_type": "code",
   "execution_count": 2,
   "id": "52b8a63c-081e-4892-b51c-d74a2bd4e51f",
   "metadata": {},
   "outputs": [],
   "source": [
    "MN=np.array([[0,0],[8,0],[16,0],[8,4]])\n",
    "MC=np.array([[0,3],[0,1],[1,3],[2,3],[1,2]])\n",
    "E=np.array([210,210,210,210,210])*1E9 #Módulo de Young para cada elemento.\n",
    "A=np.array([10,10,20,10,10])*1E-4 #Área de cada elemento.\n",
    "NN = MN.shape[0] #Cantidad de nodos.\n",
    "NE,NNXE = MC.shape #Número de elementos y numero de nodos por elemento.\n",
    "GLXN=2 #Grados de libertad por nodo."
   ]
  },
  {
   "cell_type": "code",
   "execution_count": 3,
   "id": "e0f4b636-0dd9-441b-a894-de805af55b74",
   "metadata": {},
   "outputs": [
    {
     "name": "stdout",
     "output_type": "stream",
     "text": [
      "[[ 3.93674152e-01  8.20995152e-02 -2.29475121e-01  0.00000000e+00\n",
      "   0.00000000e+00  0.00000000e+00 -1.64199030e-01 -8.20995152e-02]\n",
      " [ 8.20995152e-02  4.10497576e-02  0.00000000e+00  0.00000000e+00\n",
      "   0.00000000e+00  0.00000000e+00 -8.20995152e-02 -4.10497576e-02]\n",
      " [-2.29475121e-01  0.00000000e+00  4.58950242e-01  5.62051945e-17\n",
      "  -2.29475121e-01  0.00000000e+00 -3.44157558e-33 -5.62051945e-17]\n",
      " [ 0.00000000e+00  0.00000000e+00  5.62051945e-17  9.17900485e-01\n",
      "   0.00000000e+00  0.00000000e+00 -5.62051945e-17 -9.17900485e-01]\n",
      " [ 0.00000000e+00  0.00000000e+00 -2.29475121e-01  0.00000000e+00\n",
      "   3.93674152e-01 -8.20995152e-02 -1.64199030e-01  8.20995152e-02]\n",
      " [ 0.00000000e+00  0.00000000e+00  0.00000000e+00  0.00000000e+00\n",
      "  -8.20995152e-02  4.10497576e-02  8.20995152e-02 -4.10497576e-02]\n",
      " [-1.64199030e-01 -8.20995152e-02 -3.44157558e-33 -5.62051945e-17\n",
      "  -1.64199030e-01  8.20995152e-02  3.28398061e-01  1.62830751e-17]\n",
      " [-8.20995152e-02 -4.10497576e-02 -5.62051945e-17 -9.17900485e-01\n",
      "   8.20995152e-02 -4.10497576e-02  1.62830751e-17  1.00000000e+00]]\n"
     ]
    }
   ],
   "source": [
    "KG=Kglobal(MN,MC,E,A,GLXN)\n",
    "print(KG/np.max(KG))"
   ]
  },
  {
   "cell_type": "markdown",
   "id": "c6cb0da8-dc67-47c7-acd1-b7b77caff479",
   "metadata": {},
   "source": [
    "Calculo las tensiones."
   ]
  },
  {
   "cell_type": "code",
   "execution_count": 4,
   "id": "63d43b5f-2bf6-4ffd-8d67-0b7161ef743a",
   "metadata": {},
   "outputs": [],
   "source": [
    "s=np.array([0,1,5])\n",
    "r = np.array([i for i in range(NN*GLXN) if i not in s])\n",
    "Us=np.zeros_like(s)#toma dim r y me hace zeros\n",
    "Fr=np.zeros_like(r)\n",
    "Fr[r==3]=-20E3\n",
    "U, F = MEF(KG, s,r, Us, Fr)"
   ]
  },
  {
   "cell_type": "code",
   "execution_count": 5,
   "id": "e6210df3-16f8-4016-99e6-3bea52a7c274",
   "metadata": {},
   "outputs": [],
   "source": [
    "UMat=U.reshape(NN,GLXN) #Matriz donde cada fila es un nodo, y cxada columna sus GL"
   ]
  },
  {
   "cell_type": "code",
   "execution_count": 6,
   "id": "32aac92a-9b1e-4bc8-8606-1b7dae91dc76",
   "metadata": {},
   "outputs": [],
   "source": [
    "#Agrupo en MNF las posiciones finales de los nodos sumandole a la matriz de nodos, que tiene las posiciones de los mismos, los desplazamientos calculados\n",
    "MNF=MN+UMat"
   ]
  },
  {
   "cell_type": "code",
   "execution_count": 7,
   "id": "48e0ef2b-5a3c-46bb-83dc-14ba71e48dab",
   "metadata": {},
   "outputs": [],
   "source": [
    "Sigma=np.zeros([NE,1])"
   ]
  },
  {
   "cell_type": "code",
   "execution_count": 8,
   "id": "34196424-ad8e-4d6d-a087-1dca39249769",
   "metadata": {},
   "outputs": [],
   "source": [
    "for e in range(NE):\n",
    "    L0=np.sqrt((MN[MC[e,1],0]-MN[MC[e,0],0])**2+(MN[MC[e,1],1]-MN[MC[e,0],1])**2)\n",
    "    Lf=np.sqrt((MNF[MC[e,1],0]-MNF[MC[e,0],0])**2+(MNF[MC[e,1],1]-MNF[MC[e,0],1])**2)\n",
    "    DEF=Lf-L0\n",
    "    Sigma[e]=E[e]*DEF"
   ]
  },
  {
   "cell_type": "code",
   "execution_count": 9,
   "id": "83b0b988-b756-4252-8347-42483456a978",
   "metadata": {},
   "outputs": [
    {
     "name": "stdout",
     "output_type": "stream",
     "text": [
      "[[-1.99847128e+08]\n",
      " [ 1.60193908e+08]\n",
      " [ 4.00000000e+07]\n",
      " [-1.99847128e+08]\n",
      " [ 1.60193908e+08]]\n"
     ]
    }
   ],
   "source": [
    "print(Sigma)"
   ]
  }
 ],
 "metadata": {
  "kernelspec": {
   "display_name": "Python 3 (ipykernel)",
   "language": "python",
   "name": "python3"
  },
  "language_info": {
   "codemirror_mode": {
    "name": "ipython",
    "version": 3
   },
   "file_extension": ".py",
   "mimetype": "text/x-python",
   "name": "python",
   "nbconvert_exporter": "python",
   "pygments_lexer": "ipython3",
   "version": "3.9.10"
  }
 },
 "nbformat": 4,
 "nbformat_minor": 5
}
