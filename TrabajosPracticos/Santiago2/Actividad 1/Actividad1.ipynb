{
 "cells": [
  {
   "cell_type": "markdown",
   "id": "9ddcd172-96b3-4e6e-943e-9dfc7d64ba13",
   "metadata": {},
   "source": [
    "Importo librerías, gráficos y el mallado:"
   ]
  },
  {
   "cell_type": "code",
   "execution_count": 1,
   "id": "5f0ea5e8-7317-48c8-acfa-0428efc55a27",
   "metadata": {},
   "outputs": [],
   "source": [
    "import numpy as np\n",
    "import matplotlib.pyplot as plt\n",
    "import gmsh"
   ]
  },
  {
   "cell_type": "markdown",
   "id": "d6a92acb-daee-402b-83b7-b5a94e772032",
   "metadata": {},
   "source": [
    "Cargo los datos del problema:"
   ]
  },
  {
   "cell_type": "code",
   "execution_count": 2,
   "id": "7387a570-7539-43a7-b757-a7896bfbee58",
   "metadata": {},
   "outputs": [],
   "source": [
    "n=0.3 #Coeficiente de poisson\n",
    "E=30E6 #En Psi\n",
    "t=1 #Espesor en pulgadas\n",
    "largo=20 #En pulgadas\n",
    "altura=10 #En pulgadas\n",
    "T=1000 #[PSI]"
   ]
  },
  {
   "cell_type": "markdown",
   "id": "04b44a6e-a431-403c-81a3-455a41704c6a",
   "metadata": {},
   "source": [
    "Armo la chapa con el agujero:"
   ]
  },
  {
   "cell_type": "code",
   "execution_count": 3,
   "id": "9d1523d4-527b-425f-9c5a-4f06d504328d",
   "metadata": {},
   "outputs": [],
   "source": [
    "gmsh.initialize() #Abre el programa en phyton\n",
    "gmsh.model.add('chapa con agujero') #Armamos el modelo que vamos modificar"
   ]
  },
  {
   "cell_type": "markdown",
   "id": "704be0c3-07a0-4ef2-a55d-f86c82a2c17d",
   "metadata": {},
   "source": [
    "Puntos de interés:"
   ]
  },
  {
   "cell_type": "code",
   "execution_count": 4,
   "id": "fc9b5c2a-71fe-466e-9b3c-9db3df4fc3cc",
   "metadata": {},
   "outputs": [],
   "source": [
    "lc=0.3 #Factor de escala, lo utilizo para controlar el mallado.\n",
    "\n",
    "#Se puede resolver 1/4 de la chapa porque el problema es simetrico por lo que se armará sólo esa sección:\n",
    "\n",
    "p1 = gmsh.model.geo.addPoint(0, 0, 0,lc)\n",
    "p2 = gmsh.model.geo.addPoint(0, altura/2, 0,lc)\n",
    "p3 = gmsh.model.geo.addPoint(largo/2, altura/2, 0,lc) \n",
    "p4 = gmsh.model.geo.addPoint(largo/2, 0, 0,lc)\n",
    "p5 = gmsh.model.geo.addPoint(0,1,0,lc/15)\n",
    "p6 = gmsh.model.geo.addPoint(1,0,0,lc/15)"
   ]
  },
  {
   "cell_type": "markdown",
   "id": "87ef0227-3f56-4d58-be99-262f7a56bce2",
   "metadata": {},
   "source": [
    "Líneas de geometría:"
   ]
  },
  {
   "cell_type": "code",
   "execution_count": 5,
   "id": "701a91bd-c971-462b-89a4-bc70b5d1208b",
   "metadata": {},
   "outputs": [],
   "source": [
    "l1 = gmsh.model.geo.addLine(p5, p2)\n",
    "l2 = gmsh.model.geo.addLine(p2, p3)\n",
    "l3 = gmsh.model.geo.addLine(p3, p4)\n",
    "l4 = gmsh.model.geo.addLine(p4, p6)\n",
    "l5= gmsh.model.geo.addCircleArc(p5,p1,p6)  #Creo una parte circular\n",
    "\n",
    "C1 = gmsh.model.geo.addCurveLoop([l1, l2, l3, l4])\n",
    "C2 = gmsh.model.geo.addCurveLoop([l5])"
   ]
  },
  {
   "cell_type": "markdown",
   "id": "a710886c-1758-4776-9a66-2b2b1608fcd6",
   "metadata": {},
   "source": [
    "Superficie:"
   ]
  },
  {
   "cell_type": "code",
   "execution_count": 6,
   "id": "0e02e648-8a92-4d21-b8dc-22744e4a8732",
   "metadata": {},
   "outputs": [],
   "source": [
    "S1 = gmsh.model.geo.addPlaneSurface([C1,C2]) #asi se genera la superifice descontando el circulo"
   ]
  },
  {
   "cell_type": "code",
   "execution_count": 7,
   "id": "bc9048a7-a468-4439-9431-0347a9c80c12",
   "metadata": {},
   "outputs": [],
   "source": [
    "gmsh.model.geo.synchronize() #Vuelve a sincronizar"
   ]
  },
  {
   "cell_type": "markdown",
   "id": "736aaa36-eb97-4e5d-8205-bc036956eec2",
   "metadata": {},
   "source": [
    "Grupos físicos:"
   ]
  },
  {
   "cell_type": "code",
   "execution_count": 8,
   "id": "3a6e79ab-c650-4bd7-86d1-f1727f7b245e",
   "metadata": {},
   "outputs": [],
   "source": [
    "Empotradoy=gmsh.model.addPhysicalGroup(1,[l4])\n",
    "gmsh.model.setPhysicalName(1,Empotradoy,'Empotrado y')\n",
    "\n",
    "Traccionado=gmsh.model.addPhysicalGroup(1,[l3])\n",
    "gmsh.model.setPhysicalName(1,Traccionado,'Traccionado')\n",
    "\n",
    "Empotradox=gmsh.model.addPhysicalGroup(1,[l1])\n",
    "gmsh.model.setPhysicalName(1,Empotradox,'Empotrado x')\n",
    "\n",
    "Superficie = gmsh.model.addPhysicalGroup(2,[S1])\n",
    "gmsh.model.setPhysicalName(2,Superficie, 'Superficie')\n",
    "\n",
    "NodoAgujero= gmsh.model.addPhysicalGroup(0, [p1])\n",
    "gmsh.model.setPhysicalName(0, NodoAgujero, 'Nodo agujero')"
   ]
  },
  {
   "cell_type": "markdown",
   "id": "8c3b8de4-6516-444c-a10f-53b165ebad54",
   "metadata": {},
   "source": [
    "Genero el mallado:"
   ]
  },
  {
   "cell_type": "code",
   "execution_count": 9,
   "id": "0dd868f5-8c0f-4c9f-972c-c7d3b2d153ad",
   "metadata": {},
   "outputs": [],
   "source": [
    "gmsh.model.mesh.generate(2)\n",
    "gmsh.fltk.run()"
   ]
  },
  {
   "cell_type": "markdown",
   "id": "17f368ae-d192-4d83-8861-f7516cefb3be",
   "metadata": {},
   "source": [
    "Obtengo información relevante sobre los nodos:"
   ]
  },
  {
   "cell_type": "code",
   "execution_count": 10,
   "id": "33e02a58-af67-4d40-9418-9c2e37c274a8",
   "metadata": {},
   "outputs": [],
   "source": [
    "NodeInfo = gmsh.model.mesh.get_nodes()\n",
    "NumeroNodos=NodeInfo[0].shape[0]\n",
    "MN=NodeInfo[1].reshape(NumeroNodos,3)"
   ]
  },
  {
   "cell_type": "markdown",
   "id": "a03e8ac1-d5f3-4856-8407-467e682e8fcc",
   "metadata": {},
   "source": [
    "Obtengo información relevante sobre los elementos:"
   ]
  },
  {
   "cell_type": "code",
   "execution_count": 11,
   "id": "11816998-b1f1-4e82-b42a-4bafbc659318",
   "metadata": {},
   "outputs": [
    {
     "name": "stdout",
     "output_type": "stream",
     "text": [
      "La cantidad de elementos es 6033\n"
     ]
    }
   ],
   "source": [
    "ETAGS,ELEMENTS=gmsh.model.mesh.get_elements_by_type(2) #Triángulos.\n",
    "MC=ELEMENTS.reshape([ETAGS.shape[0],3])\n",
    "MC=(MC-1).astype(int)\n",
    "print('La cantidad de elementos es',len(MC))"
   ]
  },
  {
   "cell_type": "markdown",
   "id": "e250a7a8-a004-4de6-adcf-4658275eacac",
   "metadata": {},
   "source": [
    "Defino empotrado:"
   ]
  },
  {
   "cell_type": "code",
   "execution_count": 12,
   "id": "a997f662-1d01-4c9c-838e-7fd2941026a3",
   "metadata": {},
   "outputs": [],
   "source": [
    "NodosEmpotrados=gmsh.model.mesh.get_nodes_for_physical_group(1,Empotradox)\n",
    "NodosEmpotrados2=gmsh.model.mesh.get_nodes_for_physical_group(1,Empotradoy)\n",
    "\n",
    "s1=NodosEmpotrados[0].reshape(len(NodosEmpotrados[0]),1) #Etiquetas de los nodos empotrados\n",
    "s2=NodosEmpotrados2[0].reshape(len(NodosEmpotrados2[0]),1) #Etiquetas de los nodos empotrados 2 \n",
    "S=np.vstack((s1,s2))\n",
    "z=np.zeros([len(NodosEmpotrados[0])+len(NodosEmpotrados2[0]),2])\n",
    "MNE=np.concatenate((S-1,z),axis=1) #Indices en python\n",
    "MNE=MNE.astype(int)"
   ]
  },
  {
   "cell_type": "markdown",
   "id": "16d84145-0169-4e7f-8abe-869242b8bcf7",
   "metadata": {},
   "source": [
    "Defino tracción:"
   ]
  },
  {
   "cell_type": "code",
   "execution_count": 13,
   "id": "d19c11ed-8487-4ad3-a6b7-d29f44200271",
   "metadata": {},
   "outputs": [],
   "source": [
    "NodosTraccionados=gmsh.model.mesh.get_nodes_for_physical_group(1,Traccionado)\n",
    "\n",
    "s=NodosTraccionados[0].reshape(len(NodosTraccionados[0]),1).astype(int) #Etiquetas de los nodos traccionados\n",
    "z=np.zeros([len(NodosTraccionados[0]),2]).astype(int)\n",
    "MNT=np.concatenate((s-1,z),axis=1) #Indices en python"
   ]
  },
  {
   "cell_type": "code",
   "execution_count": 14,
   "id": "3ea86233-9b9c-4f69-9c6b-1074d6ad78be",
   "metadata": {},
   "outputs": [],
   "source": [
    "#El desplazamiento nulo  a: Borde izquierdo (solo en x), Borde inferior (solo en y) ,Punto del medio de la chapa (en x e y)\n",
    "\n",
    "agujero1 = 2 * (gmsh.model.mesh.get_nodes_for_physical_group(0,NodoAgujero)[0] - 1).astype(int)\n",
    "agujero2 = (2 * (gmsh.model.mesh.get_nodes_for_physical_group(0,NodoAgujero)[0] - 1) + 1).astype(int)\n",
    "Smx = 2 * (gmsh.model.mesh.get_nodes_for_physical_group(1,Empotradox)[0] - 1).astype(int)\n",
    "Smy = (2 * (gmsh.model.mesh.get_nodes_for_physical_group(1,Empotradoy)[0] - 1) +1).astype(int)"
   ]
  },
  {
   "cell_type": "code",
   "execution_count": 15,
   "id": "c6ddb478-6346-45df-bf1f-8867f0da05c2",
   "metadata": {},
   "outputs": [],
   "source": [
    "entityTraccionada=gmsh.model.getEntitiesForPhysicalGroup(1,Traccionado)\n",
    "Tgroup,Ttraccionada,Ltraccionada=gmsh.model.mesh.getElements(1,entityTraccionada[0])\n",
    "Ltraccionada=Ltraccionada[0].reshape(Ttraccionada[0].shape[0],2) #Matriz de conectividad del extremo traccionado\n",
    "\n",
    "#Para distribuir la tension en los elementos de la linea derecha:\n",
    "\n",
    "Longitudes=np.abs(MN[Ltraccionada[:,0]-1,1]-MN[Ltraccionada[:,1]-1,1])\n",
    "Tension_ext=T/(altura)\n",
    "\n",
    "#Fuerzas sobre la linea derecha:\n",
    "\n",
    "for l,linea in enumerate(Ltraccionada-1):\n",
    "    n1 = int(linea[0])   # el -1 es para numerar desde cero\n",
    "    n2 = int(linea[1])\n",
    "    flocal=Tension_ext*Longitudes[l]*t/2\n",
    "    flocal=round(flocal)\n",
    "    MNT[MNT[:,0]==n1,1] += flocal\n",
    "    MNT[MNT[:,0]==n2,1] += flocal"
   ]
  },
  {
   "cell_type": "markdown",
   "id": "a10501c9-6229-4bf1-8249-470a19bc24ce",
   "metadata": {},
   "source": [
    "Se termina de armar la chapa con agujero y procedemos a realizar los cálculos:"
   ]
  },
  {
   "cell_type": "code",
   "execution_count": 16,
   "id": "b60693ab-e68d-49e9-b127-d2f037669230",
   "metadata": {},
   "outputs": [
    {
     "name": "stdout",
     "output_type": "stream",
     "text": [
      "el numero de nodos es 3147\n"
     ]
    }
   ],
   "source": [
    "nb=len(MNE)\n",
    "nc=len(MNT)\n",
    "NN=len(MN)\n",
    "print('el numero de nodos es',NN)\n",
    "\n",
    "D=np.array([[1,n,0],\n",
    "            [n,1,0],\n",
    "            [0,0,0.5*(1-n)]] )*E/(1-n**2)"
   ]
  },
  {
   "cell_type": "markdown",
   "id": "70a25a32-05bf-49f0-8528-d241ec122bde",
   "metadata": {},
   "source": [
    "Armo la k global:"
   ]
  },
  {
   "cell_type": "code",
   "execution_count": 17,
   "id": "9df81600-f778-4309-ac21-b2671560ea97",
   "metadata": {},
   "outputs": [],
   "source": [
    "kglobal=np.zeros([NN*2,NN*2])\n",
    "B=[]\n",
    "for i in range (len(MC)):\n",
    "    A=np.linalg.det([[1,MN[MC[i,0],0],MN[MC[i,0],1]],\n",
    "                    [1,MN[MC[i,2],0],MN[MC[i,2],1]],\n",
    "                    [1,MN[MC[i,1],0],MN[MC[i,1],1]]])/2\n",
    "    \n",
    "    \n",
    "    betai=MN[MC[i,2],1]-MN[MC[i,1],1]\n",
    "    gammai=MN[MC[i,1],0]-MN[MC[i,2],0]\n",
    "    \n",
    "    betaj=MN[MC[i,1],1]-MN[MC[i,0],1]\n",
    "    gammaj=MN[MC[i,0],0]-MN[MC[i,1],0]\n",
    "    \n",
    "    betam=MN[MC[i,0],1]-MN[MC[i,2],1]\n",
    "    gammam=MN[MC[i,2],0]-MN[MC[i,0],0]\n",
    "    \n",
    "    B.append(np.array([[betai,0,betaj,0,betam,0],\n",
    "                       [0,gammai,0,gammaj,0,gammam],\n",
    "                       [gammai,betai,gammaj,betaj,gammam,betam]])*(1/(2*A)))\n",
    "    \n",
    "\n",
    "    k= t * abs(A) * (np.dot(np.transpose(B[i]), np.dot(D,B[i])))\n",
    "    \n",
    "    i,m,j = MC[i,:]    \n",
    "    index=np.array([i*2,i*2+1,j*2,j*2+1,m*2,m*2+1])\n",
    "    kglobal[np.ix_(index,index)]+=k"
   ]
  },
  {
   "cell_type": "markdown",
   "id": "9935ac20-5e67-47d0-8e19-8763e50d34bb",
   "metadata": {},
   "source": [
    "Condiciones de contorno:"
   ]
  },
  {
   "cell_type": "code",
   "execution_count": 18,
   "id": "c5c8df8b-b109-4dec-980a-8fad26d9b93e",
   "metadata": {},
   "outputs": [],
   "source": [
    "#f[i,0]=1 se conoce la fuerza\n",
    "#f[i,0]=0 no se conoce la fuerza\n",
    "#f[i,1]=valor, su valor estara en la segunda columna.\n",
    "\n",
    "f=np.zeros([2*NN,2])\n",
    "\n",
    "# introduzco a la matriz f las fuerzas conocidas\n",
    "\n",
    "for i in range (nc):\n",
    "    s=MNT[i,0]\n",
    "    f[2*s,0]=1\n",
    "    f[2*s,1]=MNT[i,1]\n",
    "    f[2*s+1,0]=1\n",
    "    f[2*s+1,1]=MNT[i,2]\n",
    "    \n",
    "# introduzco al vector f las fuerzas que son 0 porque no conozco su desplazamiento\n",
    "\n",
    "for j in range (nb):\n",
    "    if MNE[j,1]==1:\n",
    "        s=MNE[j,0]\n",
    "        f[2*s,0]=1\n",
    "        f[2*s,1]=0\n",
    "    if MNE[j,2]==1:\n",
    "        s=MNE[j,0]\n",
    "        f[2*s+1,0]=1\n",
    "        f[2*s+1,1]=0\n",
    "        \n",
    "        \n",
    "x=np.arange(NN) \n",
    "x=np.delete(x,[np.concatenate((MNE[:,0].astype(int),MNT[:,0].astype(int)))]) #tiene adentro los nodos en los que no se pusieron condiciones\n",
    "       \n",
    "\n",
    "if nb+nc <NN:\n",
    "    f[2*x,0]=1\n",
    "    f[2*x,1]=0\n",
    "    f[2*x+1,0]=1\n",
    "    f[2*x+1,1]=0"
   ]
  },
  {
   "cell_type": "code",
   "execution_count": 19,
   "id": "c67ff8ca-3fcc-4800-9ad1-d999ac38de31",
   "metadata": {},
   "outputs": [],
   "source": [
    "#El desplazamiento nulo a: Borde izquierdo (solo en x), Borde inferior (solo en y) ,Punto del medio de la chapa (en x e y)\n",
    "\n",
    "indexd=np.sort( np.hstack((agujero1,agujero2,Smx,Smy)))\n",
    "indexf = np.delete( np.arange(2*NumeroNodos) , indexd)"
   ]
  },
  {
   "cell_type": "markdown",
   "id": "dbc7d60b-bd6a-4d96-ab7c-6021e5c43d9b",
   "metadata": {},
   "source": [
    "Selecciono componentes de Kglobal:"
   ]
  },
  {
   "cell_type": "code",
   "execution_count": 20,
   "id": "adaadf8f-80f8-45a4-983b-5c1346dc677a",
   "metadata": {},
   "outputs": [],
   "source": [
    "#Resuelvo [F]=[K'][u] como [K']^-1[F]=[u] teniendo K' las componentes seleccionadas según las fuerzas conocidas desde un principio:\n",
    "\n",
    "desplazamientos=np.dot(np.linalg.inv(kglobal[np.ix_(indexf,indexf)]),f[indexf,1])"
   ]
  },
  {
   "cell_type": "markdown",
   "id": "a094fb38-8004-42dd-a574-4b1f10645a16",
   "metadata": {},
   "source": [
    "Creo vector desplazamientos:"
   ]
  },
  {
   "cell_type": "code",
   "execution_count": 21,
   "id": "8d9d8fac-dbf3-46bf-80de-6ba3da2176b9",
   "metadata": {},
   "outputs": [],
   "source": [
    "d=np.zeros([2*NumeroNodos,2])\n",
    "d[indexd,0]=1 \n",
    "d[indexf,1]=desplazamientos\n",
    "f[:,1]=np.dot(kglobal,d[:,1]) #Fuerzas faltantes"
   ]
  },
  {
   "cell_type": "markdown",
   "id": "4f7cd3f5-128d-4994-9766-95b3f77a3d80",
   "metadata": {},
   "source": [
    "Calculo tensiones de los elementos:"
   ]
  },
  {
   "cell_type": "code",
   "execution_count": 22,
   "id": "c633dbf8-6353-4d85-a83d-4773b1c42cda",
   "metadata": {},
   "outputs": [],
   "source": [
    "tension=[] \n",
    "\n",
    "for s in range (len(MC)) :\n",
    "    i,m,j = MC[s,:]    \n",
    "    index=np.array([i*2,i*2+1,j*2,j*2+1,m*2,m*2+1])\n",
    "    valor=np.dot(np.dot(B[s],d[index,1]),D)\n",
    "    tension.append(valor)\n",
    "    \n",
    "tension = np.array(tension)"
   ]
  },
  {
   "cell_type": "markdown",
   "id": "dc0e33cb-67f0-46cb-b90a-2a08c003cc8d",
   "metadata": {},
   "source": [
    "Calculo tensiones principales:"
   ]
  },
  {
   "cell_type": "code",
   "execution_count": 23,
   "id": "d7f9f648-e794-485a-94b5-d851432865a7",
   "metadata": {},
   "outputs": [],
   "source": [
    "tensionmax=[]\n",
    "tensionmin=[]\n",
    "\n",
    "for p in range (len(tension)):\n",
    "    maximo=(tension[p,0]+tension[p,1])/2+np.sqrt(((tension[p,0]-tension[p,1])/2)**2+tension[p,2]**2)\n",
    "    minimo=(tension[p,0]+tension[p,1])/2-np.sqrt(((tension[p,0]-tension[p,1])/2)**2+tension[p,2]**2)\n",
    "\n",
    "    tensionmax.append(maximo)\n",
    "    tensionmin.append(minimo)  \n",
    "\n",
    "tensionmax = np.array(tensionmax)\n",
    "tensionmin = np.array(tensionmin)\n",
    "\n",
    "#Utilizo el criterio Tresca, promediotens será mitad de la tension de fluencia:\n",
    "\n",
    "promediotens=(tensionmax-tensionmin)/2"
   ]
  },
  {
   "cell_type": "markdown",
   "id": "5502d895-a05e-4780-8e99-f7eb33c62cca",
   "metadata": {},
   "source": [
    "Desplazamientos:"
   ]
  },
  {
   "cell_type": "code",
   "execution_count": 24,
   "id": "3d8e5a54-8f28-45ad-b5dd-1cc2340b398d",
   "metadata": {},
   "outputs": [],
   "source": [
    "Despx = d[:-1:2,1].reshape(-1,1)\n",
    "Despy = d[1::2,1].reshape(-1,1)"
   ]
  },
  {
   "cell_type": "markdown",
   "id": "feb8af04-8b3f-47a6-95e3-08681335eb70",
   "metadata": {},
   "source": [
    "Grafico final:"
   ]
  },
  {
   "cell_type": "code",
   "execution_count": 25,
   "id": "54124bb3-0e38-4203-914c-87efbe4cfbc5",
   "metadata": {},
   "outputs": [
    {
     "name": "stdout",
     "output_type": "stream",
     "text": [
      "La cantidad de elementos es 6033\n",
      "La cantidad de nodos es 3147\n"
     ]
    }
   ],
   "source": [
    "DESP=np.hstack((Despx,Despy,np.zeros([NumeroNodos,1])))\n",
    "desps = gmsh.view.add(\"Desplazamientos\")\n",
    "Desps = gmsh.view.addModelData(desps, 0, 'chapa con agujero', 'NodeData', NodeInfo[0], DESP, numComponents=3)\n",
    "Tensiones=gmsh.view.add('Tensiones')\n",
    "Tensiones = gmsh.view.addModelData(Tensiones, 0, 'chapa con agujero', 'ElementData', ETAGS, promediotens.reshape(-1,1) , numComponents=1 )\n",
    "print('La cantidad de elementos es',len(MC))\n",
    "print('La cantidad de nodos es',NN)\n",
    "gmsh.fltk.run()\n",
    "gmsh.finalize()"
   ]
  },
  {
   "cell_type": "code",
   "execution_count": null,
   "id": "54409009-88b4-43e4-a80d-86ba7466ab33",
   "metadata": {},
   "outputs": [],
   "source": []
  }
 ],
 "metadata": {
  "kernelspec": {
   "display_name": "Python 3 (ipykernel)",
   "language": "python",
   "name": "python3"
  },
  "language_info": {
   "codemirror_mode": {
    "name": "ipython",
    "version": 3
   },
   "file_extension": ".py",
   "mimetype": "text/x-python",
   "name": "python",
   "nbconvert_exporter": "python",
   "pygments_lexer": "ipython3",
   "version": "3.9.10"
  }
 },
 "nbformat": 4,
 "nbformat_minor": 5
}
